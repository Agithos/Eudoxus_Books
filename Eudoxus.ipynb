{
 "cells": [
  {
   "cell_type": "markdown",
   "id": "3246ed41-72aa-4d4d-8fdc-14dbd9592c07",
   "metadata": {},
   "source": [
    "## Eudoxus Book - Suggestions"
   ]
  },
  {
   "cell_type": "markdown",
   "id": "e07caab3-7686-487c-b11a-549bc1a21f15",
   "metadata": {},
   "source": [
    "### Sinoliko"
   ]
  },
  {
   "cell_type": "code",
   "execution_count": null,
   "id": "cf3d569e-0f2b-46ce-95e1-15431a2208da",
   "metadata": {},
   "outputs": [],
   "source": [
    "from bs4 import BeautifulSoup\n",
    "from urllib.request import urlopen\n",
    "import ssl\n",
    "\n",
    "# Url ths sxolhs\n",
    "def getUrl(uniNo):\n",
    "    print(urlBase + url[uniNo] + \"/2021\")\n",
    "    \n",
    "# URL vivliou me vash bookID\n",
    "def getBookUrl(bookID):\n",
    "    return (\"https://service.eudoxus.gr/search/#a/id:\" + bookID + \"/0\")\n",
    "\n",
    "# List από σχολές\n",
    "def getList():\n",
    "    for i in range(len(uni)):\n",
    "        print(str(i) + \":  \" + uni[i])\n",
    "\n",
    "# Books apo sigkekrimeno Course\n",
    "def printCourseBooks(uniNo, lesson):\n",
    "    bookAvailable = courseBooks(uniNo, lesson)\n",
    "    for book in bookAvailable:\n",
    "            for courseBook in book:\n",
    "                print(\"\\t\" + courseBook)\n",
    "                # print()\n",
    "            print()\n",
    "            print(\"\\t\\t\\t--------------------------\")\n",
    "            print()\n",
    "\n",
    "# Soup gia kathe panepisthmio\n",
    "def makeSoup (university):\n",
    "    page = urlopen(urlBase + university + \"/2021\", context=ssl._create_unverified_context())\n",
    "    html = page.read().decode(\"utf-8\")\n",
    "    soup = BeautifulSoup(html, \"html.parser\")\n",
    "    return soup\n",
    "\n",
    "# Vriskw poia siggrammata exei to mathima\n",
    "def courseBooks(uniNo, courseCode):\n",
    "    soup = makeSoup(url[uniNo])\n",
    "    bookAvailable = []\n",
    "    \n",
    "    # Vriskw poia siggrammata exei to mathima\n",
    "    for h2 in soup.find_all('h2')[2:]:\n",
    "        array = h2.string.split(\"[\")\n",
    "        array = array[1].split(\"]\")\n",
    "        array[1] = array[1][2:]\n",
    "        if courseCode == array[0]:\n",
    "            bookAll = h2.find_next_siblings()[2].find_all('li')\n",
    "            for book in bookAll:\n",
    "                if book.li != None:\n",
    "                    book = book.li.get_text()\n",
    "                    bookFull = book.split(\"[\")[1].split(\"]\")\n",
    "                    bookID = bookFull[0]\n",
    "                    bookName = bookFull[1][2:].replace(\"\\t\",\"\").replace(\"\\n\",\"\")[:-12]\n",
    "                    bookAvailable.append((bookID, bookName))\n",
    "            break\n",
    "    return bookAvailable\n",
    "\n",
    "# Psaxnei popular Siggrammata apo mathima Sxolis \n",
    "def searchCourseBooks(uniNo, courseCode):\n",
    "    soup = makeSoup(url[uniNo])\n",
    "    \n",
    "    # Vriskw poia siggrammata exei to mathima\n",
    "    bookAvailable = courseBooks(uniNo, courseCode)\n",
    "    \n",
    "    bookReview = []\n",
    "    bookCourses = []\n",
    "    bookCounter = 0\n",
    "\n",
    "    ## Search Rest Courses for Same books\n",
    "    # Gia kathe siggramma\n",
    "    for bookSearch in bookAvailable:\n",
    "        print(\"Searching for \" + bookSearch[1] + \"...\")\n",
    "        bookReview.append(0)            #init\n",
    "        bookCourses.append([])\n",
    "        for i in range(len(url)):       # Gia kathe Panepisthmio\n",
    "            foundInUni = False          # +1 an vrethei sto Panepisthmio, oxi gia kathe course\n",
    "            if uniNo == i:              # mas noiazoun ta alla an exoun idia books\n",
    "                continue\n",
    "            soup = makeSoup(url[i])\n",
    "            for h2 in soup.find_all('h2')[2:]:      # Gia kathe Mathima tou Panepisthmiou\n",
    "                bookAll = h2.find_next_siblings()[2].find_all(\"li\")\n",
    "                for book in bookAll:\n",
    "                    if book.li != None:\n",
    "                        book = book.li.get_text()\n",
    "                        bookFull = book.split(\"[\")[1].split(\"]\")\n",
    "                        bookID = bookFull[0]\n",
    "                        if bookID == bookSearch[0]:\n",
    "                            if not foundInUni:\n",
    "                                bookReview[bookCounter] += 1\n",
    "                                foundInUni = True\n",
    "                            bookCourses[bookCounter].append(uni[i] + \" : \" + h2.string)\n",
    "        bookCounter += 1\n",
    "    print()\n",
    "    print(\"-------------------------------------------------------------------------------------------\")\n",
    "\n",
    "    ## OUTPUT PRINT\n",
    "    counter = 0\n",
    "    for book in bookAvailable:\n",
    "        print(book[1])\n",
    "        # print(\"\\t\" + \"( \" + getBookUrl(book[0]) + \" )\")\n",
    "        print(str(bookReview[counter]) + \"\\t\" + \"( \" + getBookUrl(book[0]) + \" )\")\n",
    "        print()\n",
    "        counter +=1\n",
    "    print(\"===========================================================================================\")\n",
    "    print()\n",
    "    for book in bookCourses:\n",
    "        for courseBook in book:\n",
    "            print(\"\\t\" + courseBook)\n",
    "            # print()\n",
    "        print()\n",
    "        print(\"\\t\\t\\t--------------------------\")\n",
    "        print()\n",
    "\n",
    "\n",
    "\n"
   ]
  },
  {
   "cell_type": "code",
   "execution_count": null,
   "id": "b2eff615-e3af-49c4-b7f7-820d270bb7b5",
   "metadata": {},
   "outputs": [],
   "source": [
    "uni = [\"ΗΜ ΕΜΠ\", \"HM Πατρών\",\"HM Κρήτης\", \"ΗΜ Καποδιστριακό\", \"Αριστοτέλειο Πληρ.\",\n",
    "       \"Καποδιστριακό Πληρ - Τηλ.\", \"Καποδιστριακό Πληρ\", \"Ιόνιο Πληρ.\",\n",
    "       \"HM Αριστοτέλειο\", \"HM Θεσσαλία\", \"ΗΜ Ιωάννινα\", \"Πληρ. Ιωάννινα\"]\n",
    "url = []\n",
    "urlBase = \"https://service.eudoxus.gr/public/departments/courses/\"\n",
    "\n",
    "########## Sxoles Panepisthmiwn ############\n",
    "\n",
    "url.append(\"1482\")    #  0. HM Metsoveio\n",
    "url.append(\"1333\")    #  1. HM Patrwn\n",
    "url.append(\"1395\")    #  2. HM Krhths\n",
    "url.append(\"412088\")  #  3. HM Kapod\n",
    "url.append(\"1596\")    #  4. Plir Aristoteleio\n",
    "url.append(\"1937\")    #  5. Plir kai Thl Kapod\n",
    "url.append(\"411916\")  #  6. Plir Kapodistriako\n",
    "url.append(\"964\")     #  7. Plir Ionio\n",
    "url.append(\"1609\")    #  8. HM Aristoteleio\n",
    "url.append(\"1303\")    #  9. HM Thessalia\n",
    "url.append(\"1241\")    # 10. HM Ioannina\n",
    "url.append(\"411681\")  # 11. Plir Ioannina"
   ]
  },
  {
   "cell_type": "code",
   "execution_count": null,
   "id": "7b6def95-852c-4301-a427-25bcdfa7c8c1",
   "metadata": {},
   "outputs": [],
   "source": [
    "printCourseBooks(10, \"ΜΥΕ004\")"
   ]
  },
  {
   "cell_type": "code",
   "execution_count": null,
   "id": "edf5d216-3d37-4d12-a133-fd262c39f4ba",
   "metadata": {},
   "outputs": [],
   "source": [
    "getUrl(7)\n",
    "getList()"
   ]
  },
  {
   "cell_type": "code",
   "execution_count": null,
   "id": "3e6b5ebb-4e47-486c-af30-8fc7d5d0480f",
   "metadata": {},
   "outputs": [],
   "source": [
    "searchCourseBooks(8,\"009\")"
   ]
  },
  {
   "cell_type": "markdown",
   "id": "2d2fc050-d31e-43f1-b7d6-70276fc01dbc",
   "metadata": {},
   "source": [
    "---\n",
    "## Λίστες ανάλογα με θεματική"
   ]
  },
  {
   "cell_type": "markdown",
   "id": "b847cdf4-5e30-422c-8346-50c57c831788",
   "metadata": {},
   "source": [
    "### Για πολιτικούς μηχανικούς"
   ]
  },
  {
   "cell_type": "code",
   "execution_count": 184,
   "id": "ac1740a6-3869-4570-b02c-809c7cae5485",
   "metadata": {},
   "outputs": [],
   "source": [
    "uni = [\"ΠΜ ΕΜΠ\", \"ΠΜ Αριστοτέλειο\", \"ΠΜ Πάτρας\", \"ΠΜ Βόλος\",\n",
    "       \"ΠΜ Πελοποννήσου\", \"ΠΜ Θράκης\", \"ΠΜ Δυτικής Αττικής\"]\n",
    "url = []\n",
    "urlBase = \"https://service.eudoxus.gr/public/departments/courses/\"\n",
    "\n",
    "########## Sxoles Panepisthmiwn ############\n",
    "\n",
    "url.append(\"1974\")    # 0. PM Metsoveio\n",
    "url.append(\"1647\")    # 1. PM Aristoteleio\n",
    "url.append(\"1780\")    # 2. PM Patrwn\n",
    "url.append(\"1761\")    # 3. PM Thessalias\n",
    "url.append(\"412287\")  # 4. PM Peloponnisou\n",
    "url.append(\"2711\")    # 5. PM Thrakhs\n",
    "url.append(\"367666\")  # 6. PM Ditikis Attikis"
   ]
  },
  {
   "cell_type": "code",
   "execution_count": 193,
   "id": "05e8d0c2-e1b1-42cf-87ed-f2d8e66c0e8a",
   "metadata": {},
   "outputs": [
    {
     "name": "stdout",
     "output_type": "stream",
     "text": [
      "https://service.eudoxus.gr/public/departments/courses/1974/2021\n",
      "0:  ΠΜ ΕΜΠ\n",
      "1:  ΠΜ Αριστοτέλειο\n",
      "2:  ΠΜ Πάτρας\n",
      "3:  ΠΜ Βόλος\n",
      "4:  ΠΜ Πελοποννήσου\n",
      "5:  ΠΜ Θράκης\n",
      "6:  ΠΜ Δυτικής Αττικής\n"
     ]
    }
   ],
   "source": [
    "getUrl(0)\n",
    "getList()"
   ]
  },
  {
   "cell_type": "code",
   "execution_count": 194,
   "id": "7e3b2fcf-9986-4956-8a5a-9ef055c456a9",
   "metadata": {},
   "outputs": [
    {
     "name": "stdout",
     "output_type": "stream",
     "text": [
      "Searching for ΣΤΟΙΧΕΙΑ ΔΟΜΙΚΩΝ ΜΗΧΑΝΩΝ ΚΑΙ ΑΣΦΑΛΕΙΑΣ ΕΡΓΩΝ, ΠΑΡΙΣ ΜΙΧ. ΠΑΝΤΟΥΒΑΚΗΣ, ΑΝΤΩΝΗΣ Θ. ΠΑΝΑΣ...\n",
      "\n",
      "-------------------------------------------------------------------------------------------\n",
      "ΣΤΟΙΧΕΙΑ ΔΟΜΙΚΩΝ ΜΗΧΑΝΩΝ ΚΑΙ ΑΣΦΑΛΕΙΑΣ ΕΡΓΩΝ, ΠΑΡΙΣ ΜΙΧ. ΠΑΝΤΟΥΒΑΚΗΣ, ΑΝΤΩΝΗΣ Θ. ΠΑΝΑΣ\n",
      "2\t( https://service.eudoxus.gr/search/#a/id:86198208/0 )\n",
      "\n",
      "===========================================================================================\n",
      "\n",
      "\tΠΜ Θράκης : Μάθημα [Ζ28Ε]: ΔΟΜΙΚΕΣ ΜΗΧΑΝΕΣ ΚΑΙ ΟΡΓΑΝΩΣΗ ΕΡΓΟΤΑΞΙΩΝ\n",
      "\tΠΜ Δυτικής Αττικής : Μάθημα [CE0650]: ΔΟΜΙΚΕΣ ΜΗΧΑΝΕΣ ΚΑΙ ΟΡΓΑΝΩΣΗ ΕΡΓΟΤΑΞΙΟΥ\n",
      "\n",
      "\t\t\t--------------------------\n",
      "\n"
     ]
    }
   ],
   "source": [
    "searchCourseBooks(0,\"1062\")"
   ]
  },
  {
   "cell_type": "markdown",
   "id": "e81b739f-80fa-48ed-904c-f8958b66258e",
   "metadata": {},
   "source": [
    "### Για αρχιτέκτονες"
   ]
  },
  {
   "cell_type": "code",
   "execution_count": 181,
   "id": "7232ddd3-5844-4864-a009-fc9c2aab575c",
   "metadata": {},
   "outputs": [],
   "source": [
    "uni = [\"AM ΕΜΠ\", \"ΑΜ Αριστοτέλειο\", \"ΑΜ Πάτρας\", \"ΑΜ Βόλος\", \"ΑΜ Κρήτης\",\n",
    "       \"ΑΜ Ιωάννινα\", \"ΑΜ Θράκης\"]\n",
    "url = []\n",
    "urlBase = \"https://service.eudoxus.gr/public/departments/courses/\"\n",
    "\n",
    "url.append(\"1144\")   # 0. AM EMP\n",
    "url.append(\"1286\")   # 1. AM Aristoteleio\n",
    "url.append(\"1419\")   # 2. AM Patras\n",
    "url.append(\"1327\")   # 3. AM Volos\n",
    "url.append(\"1814\")   # 4. AM Krhths\n",
    "url.append(\"245873\") # 5. AM Ioannina\n",
    "url.append(\"1714\")   # 6. AM Thrakhs"
   ]
  },
  {
   "cell_type": "code",
   "execution_count": 182,
   "id": "95917a5e-b239-4de3-adeb-6fee62bd5153",
   "metadata": {},
   "outputs": [
    {
     "name": "stdout",
     "output_type": "stream",
     "text": [
      "https://service.eudoxus.gr/public/departments/courses/1144/2021\n",
      "0:  AM ΕΜΠ\n",
      "1:  ΑΜ Αριστοτέλειο\n",
      "2:  ΑΜ Πάτρας\n",
      "3:  ΑΜ Βόλος\n",
      "4:  ΑΜ Κρήτης\n",
      "5:  ΑΜ Ιωάννινα\n",
      "6:  ΑΜ Θράκης\n"
     ]
    }
   ],
   "source": [
    "getUrl(0)\n",
    "getList()"
   ]
  },
  {
   "cell_type": "code",
   "execution_count": 183,
   "id": "83f2a0d5-9114-472e-b0e0-6885f3f2ee8d",
   "metadata": {},
   "outputs": [
    {
     "name": "stdout",
     "output_type": "stream",
     "text": [
      "Searching for Θέματα Οικοδομικής, ΣΥΛΛΟΓΙΚΟ...\n",
      "Searching for Κτιριακές κατασκευές, Schmitt Heinrich,Heene A....\n",
      "\n",
      "-------------------------------------------------------------------------------------------\n",
      "Θέματα Οικοδομικής, ΣΥΛΛΟΓΙΚΟ\n",
      "3\t( https://service.eudoxus.gr/search/#a/id:45371/0 )\n",
      "\n",
      "Κτιριακές κατασκευές, Schmitt Heinrich,Heene A.\n",
      "3\t( https://service.eudoxus.gr/search/#a/id:12425/0 )\n",
      "\n",
      "===========================================================================================\n",
      "\n",
      "\tΑΜ Πάτρας : Μάθημα [ARC_610]: ΟΙΚΟΔΟΜΙΚΗ ΤΕΧΝΟΛΟΓΙΑ 1\n",
      "\tΑΜ Πάτρας : Μάθημα [ARC_620]: ΟΙΚΟΔΟΜΙΚΗ ΤΕΧΝΟΛΟΓΙΑ 2\n",
      "\tΑΜ Πάτρας : Μάθημα [ARC_630]: ΟΙΚΟΔΟΜΙΚΗ ΤΕΧΝΟΛΟΓΙΑ 3\n",
      "\tΑΜ Πάτρας : Μάθημα [ARC_640]: ΟΙΚΟΔΟΜΙΚΗ ΤΕΧΝΟΛΟΓΙΑ 4\n",
      "\tΑΜ Πάτρας : Μάθημα [ARC_970]: ΕΡΕΥΝΗΤΙΚΗ ΕΡΓΑΣΙΑ\n",
      "\tΑΜ Πάτρας : Μάθημα [ARC_990Δ]: ΔΙΠΛΩΜΑΤΙΚΗ ΕΡΓΑΣΙΑ 1\n",
      "\tΑΜ Πάτρας : Μάθημα [ARC_100Δ]: ΔΙΠΛΩΜΑΤΙΚΗ ΕΡΓΑΣΙΑ 2\n",
      "\tΑΜ Κρήτης : Μάθημα [ΑΤΒΙΟ]: ΑΡΧΙΤΕΚΤΟΝΙΚΗ ΤΕΧΝΟΛΟΓΙΑ: ΕΙΣΑΓΩΓΗ ΣΤΗΝ ΚΑΤΑΣΚΕΥΗ ΚΑΙ ΣΤΟΝ ΒΙΟΚΛΙΜΑΤΙΚΟ ΣΧΕΔΙΑΣΜΟ\n",
      "\tΑΜ Ιωάννινα : Μάθημα [ΑΡΥ204]: Δομικές Τέχνες,Επινόηση & Εφαρμογή 2\n",
      "\n",
      "\t\t\t--------------------------\n",
      "\n",
      "\tΑΜ Πάτρας : Μάθημα [ARC_610]: ΟΙΚΟΔΟΜΙΚΗ ΤΕΧΝΟΛΟΓΙΑ 1\n",
      "\tΑΜ Πάτρας : Μάθημα [ARC_630]: ΟΙΚΟΔΟΜΙΚΗ ΤΕΧΝΟΛΟΓΙΑ 3\n",
      "\tΑΜ Πάτρας : Μάθημα [ARC_640]: ΟΙΚΟΔΟΜΙΚΗ ΤΕΧΝΟΛΟΓΙΑ 4\n",
      "\tΑΜ Πάτρας : Μάθημα [ARC_ΕΣ501]: ΕΡΓΑΣΤΗΡΙΟ ΟΙΚΟΔΟΜΙΚΟΥ ΣΧΕΔΙΑΣΜΟΥ\n",
      "\tΑΜ Πάτρας : Μάθημα [ARC_970]: ΕΡΕΥΝΗΤΙΚΗ ΕΡΓΑΣΙΑ\n",
      "\tΑΜ Πάτρας : Μάθημα [ARC_990Δ]: ΔΙΠΛΩΜΑΤΙΚΗ ΕΡΓΑΣΙΑ 1\n",
      "\tΑΜ Πάτρας : Μάθημα [ARC_100Δ]: ΔΙΠΛΩΜΑΤΙΚΗ ΕΡΓΑΣΙΑ 2\n",
      "\tΑΜ Κρήτης : Μάθημα [ΑΤΒΙΟ]: ΑΡΧΙΤΕΚΤΟΝΙΚΗ ΤΕΧΝΟΛΟΓΙΑ: ΕΙΣΑΓΩΓΗ ΣΤΗΝ ΚΑΤΑΣΚΕΥΗ ΚΑΙ ΣΤΟΝ ΒΙΟΚΛΙΜΑΤΙΚΟ ΣΧΕΔΙΑΣΜΟ\n",
      "\tΑΜ Ιωάννινα : Μάθημα [ΑΡΥ404]: Αρχιτεκτονική Τεχνολογία 2\n",
      "\n",
      "\t\t\t--------------------------\n",
      "\n"
     ]
    }
   ],
   "source": [
    "searchCourseBooks(0,\"4208\")"
   ]
  },
  {
   "cell_type": "markdown",
   "id": "80335f9a-2a8f-419e-b4d4-3543a7a9b760",
   "metadata": {},
   "source": [
    "### Για Αρχιτέκτονες + Πολιτικούς μηχανικούς"
   ]
  },
  {
   "cell_type": "code",
   "execution_count": null,
   "id": "edcdb0a7-7dc4-4ede-a7a0-a7e870b10741",
   "metadata": {},
   "outputs": [],
   "source": [
    "uni = [\"ΠΜ ΕΜΠ\", \"ΠΜ Αριστοτέλειο\", \"ΠΜ Πάτρας\", \"ΠΜ Βόλος\",\n",
    "       \"ΠΜ Πελοποννήσου\", \"ΠΜ Θράκης\", \"ΠΜ Δυτικής Αττικής\",\n",
    "       \"AM ΕΜΠ\", \"ΑΜ Αριστοτέλειο\", \"ΑΜ Πάτρας\", \"ΑΜ Βόλος\", \"ΑΜ Κρήτης\",\n",
    "       \"ΑΜ Ιωάννινα\", \"ΑΜ Θράκης\"]\n",
    "url = []\n",
    "urlBase = \"https://service.eudoxus.gr/public/departments/courses/\"\n",
    "url.append(\"1974\")    # 0. PM Metsoveio\n",
    "url.append(\"1647\")    # 1. PM Aristoteleio\n",
    "url.append(\"1780\")    # 2. PM Patrwn\n",
    "url.append(\"1761\")    # 3. PM Thessalias\n",
    "url.append(\"412287\")  # 4. PM Peloponnisou\n",
    "url.append(\"2711\")    # 5. PM Thrakhs\n",
    "url.append(\"367666\")  # 6. PM Ditikis Attikis\n",
    "url.append(\"1144\")    # 7. AM EMP\n",
    "url.append(\"1286\")    # 8. AM Aristoteleio\n",
    "url.append(\"1419\")    # 9. AM Patras\n",
    "url.append(\"1327\")    # 10. AM Volos\n",
    "url.append(\"1814\")    # 11. AM Krhths\n",
    "url.append(\"245873\")  # 12. AM Ioannina\n",
    "url.append(\"1714\")    # 13. AM Thrakhs"
   ]
  },
  {
   "cell_type": "code",
   "execution_count": null,
   "id": "80ae0744-d280-47b8-9622-978f503195df",
   "metadata": {},
   "outputs": [],
   "source": [
    "getUrl(0)\n",
    "getList()"
   ]
  },
  {
   "cell_type": "code",
   "execution_count": null,
   "id": "6d077ba1-f1a7-4314-9f19-39f2cdd74126",
   "metadata": {},
   "outputs": [],
   "source": [
    "searchCourseBooks(0,\"1007\")"
   ]
  },
  {
   "cell_type": "markdown",
   "id": "3d374b1c-ef57-4c21-9b52-1333d094002f",
   "metadata": {},
   "source": [
    "--\n",
    "## To-do\n",
    "* Function που να \n",
    "    * Παίρνει όλα τα βιβλία από τις σχολές που βάλαμε // courseBooks σε όλα τα βάζει σε set\n",
    "    * Μετράει πόσες σχολές χρησιμοποιούν το καθένα\n",
    "    * Τα ταξινομεί με βάση \n",
    "        * Και άρα ταξινομεί και τα arrays από τα μαθήματα που τους αντιστοιχούν\n",
    "    * Δείχνει όλα ή τα top10 με όλα τα Μαθήματα που τα χρειάστηκαν\n",
    "    \n",
    "* Function που\n",
    "    * Παίρνει τα βιβλία από 1 μάθημα    // courseBooks\n",
    "    * Από αυτά βρίσκει αντιστοιχίες με άλλα μαθήματα άλλων σχολών\n",
    "    * Στην αναζήτηση βιβλίων βάζει να συμμετέχουν και βιβλία από αντίστοιχα μαθήματα\n",
    "* Προσθέτω τομείς\n",
    "    * Μαθηματικά\n",
    "    * Φυσική\n",
    "    * Οικονομικά"
   ]
  },
  {
   "cell_type": "code",
   "execution_count": null,
   "id": "75a66866-0645-4204-8548-7740c8b8432b",
   "metadata": {},
   "outputs": [],
   "source": [
    "\n",
    "###### DE doulevei giati einai Dynamic ta Data. Thelei selenium ####\n",
    "# def makeSoupISBN(bookID):\n",
    "#     page = urlopen( getBookUrl(bookID), context=ssl._create_unverified_context())\n",
    "#     html = page.read().decode(\"utf-8\")\n",
    "#     soup = BeautifulSoup(html, \"html.parser\")\n",
    "#     return soup\n",
    "    \n",
    "# def getISBN(bookID):\n",
    "#     soup = makeSoupISBN(bookID)\n",
    "#     print(soup.body)\n",
    "    \n",
    "# getISBN(\"12777737\")\n"
   ]
  },
  {
   "cell_type": "code",
   "execution_count": null,
   "id": "0aef96e5-825f-45ff-9f5c-72b8e47156b3",
   "metadata": {},
   "outputs": [],
   "source": [
    "getBookUrl(\"12777737\")"
   ]
  },
  {
   "cell_type": "markdown",
   "id": "934fb705-e3b0-461a-89ee-9dcbd43fabc5",
   "metadata": {},
   "source": [
    "## Book to Get\n",
    "Architecture\n",
    "* [Αρχιτεκτονική Τεχνολογία](https://service.eudoxus.gr/search/#a/id:59364934/0) |  978-960-12-2259-2 To πήρα\n",
    "* [Κατασκευή Κτιρίων](https://service.eudoxus.gr/search/#a/id:94642845/0) | 978-960-531-441-5\n",
    "    * Είναι αυτό που έχω πάρει?"
   ]
  },
  {
   "cell_type": "code",
   "execution_count": null,
   "id": "6f03e165-b5e9-4a24-b73c-be8138428615",
   "metadata": {},
   "outputs": [],
   "source": []
  }
 ],
 "metadata": {
  "kernelspec": {
   "display_name": "Python 3 (ipykernel)",
   "language": "python",
   "name": "python3"
  },
  "language_info": {
   "codemirror_mode": {
    "name": "ipython",
    "version": 3
   },
   "file_extension": ".py",
   "mimetype": "text/x-python",
   "name": "python",
   "nbconvert_exporter": "python",
   "pygments_lexer": "ipython3",
   "version": "3.7.1"
  }
 },
 "nbformat": 4,
 "nbformat_minor": 5
}
